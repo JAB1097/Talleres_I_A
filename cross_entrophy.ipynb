{
 "cells": [
  {
   "cell_type": "code",
   "execution_count": 22,
   "metadata": {},
   "outputs": [],
   "source": [
    "#Importar modulos necesarios \n",
    "\n",
    "import numpy as np \n",
    "import matplotlib.pylab as plt\n"
   ]
  },
  {
   "cell_type": "code",
   "execution_count": 23,
   "metadata": {},
   "outputs": [],
   "source": [
    "#Generar vectores o datos para este ejercicio \n",
    "\n",
    "y = [0,0,0,0,0,0,0,0,0,0,1,1,1,1,1,1,1,1,1,1]\n",
    "#y_pred = np.random.randn(1,20,1)\n",
    "y_pred = [0.1,0.3,0.2,0.5,0.6,0.8,0.9,0.5,0.5,0.5,0.6,0.3,0.4,0.8,0.9,0.3,0.4,0.6,0.7,0.8]"
   ]
  },
  {
   "cell_type": "code",
   "execution_count": 25,
   "metadata": {},
   "outputs": [
    {
     "name": "stdout",
     "output_type": "stream",
     "text": [
      "0.35667494393873245\n"
     ]
    }
   ],
   "source": [
    "#Funcion de error (Cross entropy)\n",
    "def cross_entropy_loss(y,y_pred):\n",
    "    loss = -np.mean(y[1] * np.log(y_pred[1]) + (1 - y[1]) * np.log(1 - y_pred[1]))  #binary cross entropy\n",
    "    return loss\n",
    "\n",
    "print(cross_entropy_loss(y,y_pred))"
   ]
  }
 ],
 "metadata": {
  "kernelspec": {
   "display_name": "Python 3",
   "language": "python",
   "name": "python3"
  },
  "language_info": {
   "codemirror_mode": {
    "name": "ipython",
    "version": 3
   },
   "file_extension": ".py",
   "mimetype": "text/x-python",
   "name": "python",
   "nbconvert_exporter": "python",
   "pygments_lexer": "ipython3",
   "version": "3.11.1"
  },
  "orig_nbformat": 4
 },
 "nbformat": 4,
 "nbformat_minor": 2
}
